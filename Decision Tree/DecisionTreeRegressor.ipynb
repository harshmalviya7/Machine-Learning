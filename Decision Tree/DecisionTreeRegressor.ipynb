{
  "nbformat": 4,
  "nbformat_minor": 0,
  "metadata": {
    "colab": {
      "name": "Untitled7.ipynb",
      "provenance": []
    },
    "kernelspec": {
      "name": "python3",
      "display_name": "Python 3"
    }
  },
  "cells": [
    {
      "cell_type": "markdown",
      "metadata": {
        "id": "yqp5WSCxgPk5"
      },
      "source": [
        "**Decision Tree Regressor**"
      ]
    },
    {
      "cell_type": "code",
      "metadata": {
        "id": "h-THDtK1NEAH"
      },
      "source": [
        "import sklearn"
      ],
      "execution_count": 1,
      "outputs": []
    },
    {
      "cell_type": "code",
      "metadata": {
        "id": "jwLvIclZNQly",
        "outputId": "c45d5a8b-15fa-49c6-d4fd-684eb2147554",
        "colab": {
          "base_uri": "https://localhost:8080/",
          "height": 35
        }
      },
      "source": [
        "sklearn.__version__"
      ],
      "execution_count": 2,
      "outputs": [
        {
          "output_type": "execute_result",
          "data": {
            "application/vnd.google.colaboratory.intrinsic+json": {
              "type": "string"
            },
            "text/plain": [
              "'0.22.2.post1'"
            ]
          },
          "metadata": {
            "tags": []
          },
          "execution_count": 2
        }
      ]
    },
    {
      "cell_type": "code",
      "metadata": {
        "id": "N6z6XtIONV2y"
      },
      "source": [
        "import numpy as np\n",
        "%matplotlib inline\n",
        "import matplotlib as mpl\n",
        "import matplotlib.pyplot as plt"
      ],
      "execution_count": 3,
      "outputs": []
    },
    {
      "cell_type": "code",
      "metadata": {
        "id": "AAMV_8X1NuvM"
      },
      "source": [
        "import pandas as pd\n",
        "df_train=pd.read_csv(\"/content/sample_data/california_housing_train.csv\")\n"
      ],
      "execution_count": 4,
      "outputs": []
    },
    {
      "cell_type": "code",
      "metadata": {
        "id": "XgLqQF4rQGkh",
        "outputId": "7f669a96-2125-49fa-eb62-e6b2c43efa35",
        "colab": {
          "base_uri": "https://localhost:8080/",
          "height": 224
        }
      },
      "source": [
        "df_train.head()"
      ],
      "execution_count": 5,
      "outputs": [
        {
          "output_type": "execute_result",
          "data": {
            "text/html": [
              "<div>\n",
              "<style scoped>\n",
              "    .dataframe tbody tr th:only-of-type {\n",
              "        vertical-align: middle;\n",
              "    }\n",
              "\n",
              "    .dataframe tbody tr th {\n",
              "        vertical-align: top;\n",
              "    }\n",
              "\n",
              "    .dataframe thead th {\n",
              "        text-align: right;\n",
              "    }\n",
              "</style>\n",
              "<table border=\"1\" class=\"dataframe\">\n",
              "  <thead>\n",
              "    <tr style=\"text-align: right;\">\n",
              "      <th></th>\n",
              "      <th>longitude</th>\n",
              "      <th>latitude</th>\n",
              "      <th>housing_median_age</th>\n",
              "      <th>total_rooms</th>\n",
              "      <th>total_bedrooms</th>\n",
              "      <th>population</th>\n",
              "      <th>households</th>\n",
              "      <th>median_income</th>\n",
              "      <th>median_house_value</th>\n",
              "    </tr>\n",
              "  </thead>\n",
              "  <tbody>\n",
              "    <tr>\n",
              "      <th>0</th>\n",
              "      <td>-114.31</td>\n",
              "      <td>34.19</td>\n",
              "      <td>15.0</td>\n",
              "      <td>5612.0</td>\n",
              "      <td>1283.0</td>\n",
              "      <td>1015.0</td>\n",
              "      <td>472.0</td>\n",
              "      <td>1.4936</td>\n",
              "      <td>66900.0</td>\n",
              "    </tr>\n",
              "    <tr>\n",
              "      <th>1</th>\n",
              "      <td>-114.47</td>\n",
              "      <td>34.40</td>\n",
              "      <td>19.0</td>\n",
              "      <td>7650.0</td>\n",
              "      <td>1901.0</td>\n",
              "      <td>1129.0</td>\n",
              "      <td>463.0</td>\n",
              "      <td>1.8200</td>\n",
              "      <td>80100.0</td>\n",
              "    </tr>\n",
              "    <tr>\n",
              "      <th>2</th>\n",
              "      <td>-114.56</td>\n",
              "      <td>33.69</td>\n",
              "      <td>17.0</td>\n",
              "      <td>720.0</td>\n",
              "      <td>174.0</td>\n",
              "      <td>333.0</td>\n",
              "      <td>117.0</td>\n",
              "      <td>1.6509</td>\n",
              "      <td>85700.0</td>\n",
              "    </tr>\n",
              "    <tr>\n",
              "      <th>3</th>\n",
              "      <td>-114.57</td>\n",
              "      <td>33.64</td>\n",
              "      <td>14.0</td>\n",
              "      <td>1501.0</td>\n",
              "      <td>337.0</td>\n",
              "      <td>515.0</td>\n",
              "      <td>226.0</td>\n",
              "      <td>3.1917</td>\n",
              "      <td>73400.0</td>\n",
              "    </tr>\n",
              "    <tr>\n",
              "      <th>4</th>\n",
              "      <td>-114.57</td>\n",
              "      <td>33.57</td>\n",
              "      <td>20.0</td>\n",
              "      <td>1454.0</td>\n",
              "      <td>326.0</td>\n",
              "      <td>624.0</td>\n",
              "      <td>262.0</td>\n",
              "      <td>1.9250</td>\n",
              "      <td>65500.0</td>\n",
              "    </tr>\n",
              "  </tbody>\n",
              "</table>\n",
              "</div>"
            ],
            "text/plain": [
              "   longitude  latitude  ...  median_income  median_house_value\n",
              "0    -114.31     34.19  ...         1.4936             66900.0\n",
              "1    -114.47     34.40  ...         1.8200             80100.0\n",
              "2    -114.56     33.69  ...         1.6509             85700.0\n",
              "3    -114.57     33.64  ...         3.1917             73400.0\n",
              "4    -114.57     33.57  ...         1.9250             65500.0\n",
              "\n",
              "[5 rows x 9 columns]"
            ]
          },
          "metadata": {
            "tags": []
          },
          "execution_count": 5
        }
      ]
    },
    {
      "cell_type": "code",
      "metadata": {
        "id": "e2UhqXn8QLCI",
        "outputId": "28934d36-f1b3-4dc7-c9d9-6238eb7a1ce3",
        "colab": {
          "base_uri": "https://localhost:8080/",
          "height": 317
        }
      },
      "source": [
        "df_train.describe()"
      ],
      "execution_count": 6,
      "outputs": [
        {
          "output_type": "execute_result",
          "data": {
            "text/html": [
              "<div>\n",
              "<style scoped>\n",
              "    .dataframe tbody tr th:only-of-type {\n",
              "        vertical-align: middle;\n",
              "    }\n",
              "\n",
              "    .dataframe tbody tr th {\n",
              "        vertical-align: top;\n",
              "    }\n",
              "\n",
              "    .dataframe thead th {\n",
              "        text-align: right;\n",
              "    }\n",
              "</style>\n",
              "<table border=\"1\" class=\"dataframe\">\n",
              "  <thead>\n",
              "    <tr style=\"text-align: right;\">\n",
              "      <th></th>\n",
              "      <th>longitude</th>\n",
              "      <th>latitude</th>\n",
              "      <th>housing_median_age</th>\n",
              "      <th>total_rooms</th>\n",
              "      <th>total_bedrooms</th>\n",
              "      <th>population</th>\n",
              "      <th>households</th>\n",
              "      <th>median_income</th>\n",
              "      <th>median_house_value</th>\n",
              "    </tr>\n",
              "  </thead>\n",
              "  <tbody>\n",
              "    <tr>\n",
              "      <th>count</th>\n",
              "      <td>17000.000000</td>\n",
              "      <td>17000.000000</td>\n",
              "      <td>17000.000000</td>\n",
              "      <td>17000.000000</td>\n",
              "      <td>17000.000000</td>\n",
              "      <td>17000.000000</td>\n",
              "      <td>17000.000000</td>\n",
              "      <td>17000.000000</td>\n",
              "      <td>17000.000000</td>\n",
              "    </tr>\n",
              "    <tr>\n",
              "      <th>mean</th>\n",
              "      <td>-119.562108</td>\n",
              "      <td>35.625225</td>\n",
              "      <td>28.589353</td>\n",
              "      <td>2643.664412</td>\n",
              "      <td>539.410824</td>\n",
              "      <td>1429.573941</td>\n",
              "      <td>501.221941</td>\n",
              "      <td>3.883578</td>\n",
              "      <td>207300.912353</td>\n",
              "    </tr>\n",
              "    <tr>\n",
              "      <th>std</th>\n",
              "      <td>2.005166</td>\n",
              "      <td>2.137340</td>\n",
              "      <td>12.586937</td>\n",
              "      <td>2179.947071</td>\n",
              "      <td>421.499452</td>\n",
              "      <td>1147.852959</td>\n",
              "      <td>384.520841</td>\n",
              "      <td>1.908157</td>\n",
              "      <td>115983.764387</td>\n",
              "    </tr>\n",
              "    <tr>\n",
              "      <th>min</th>\n",
              "      <td>-124.350000</td>\n",
              "      <td>32.540000</td>\n",
              "      <td>1.000000</td>\n",
              "      <td>2.000000</td>\n",
              "      <td>1.000000</td>\n",
              "      <td>3.000000</td>\n",
              "      <td>1.000000</td>\n",
              "      <td>0.499900</td>\n",
              "      <td>14999.000000</td>\n",
              "    </tr>\n",
              "    <tr>\n",
              "      <th>25%</th>\n",
              "      <td>-121.790000</td>\n",
              "      <td>33.930000</td>\n",
              "      <td>18.000000</td>\n",
              "      <td>1462.000000</td>\n",
              "      <td>297.000000</td>\n",
              "      <td>790.000000</td>\n",
              "      <td>282.000000</td>\n",
              "      <td>2.566375</td>\n",
              "      <td>119400.000000</td>\n",
              "    </tr>\n",
              "    <tr>\n",
              "      <th>50%</th>\n",
              "      <td>-118.490000</td>\n",
              "      <td>34.250000</td>\n",
              "      <td>29.000000</td>\n",
              "      <td>2127.000000</td>\n",
              "      <td>434.000000</td>\n",
              "      <td>1167.000000</td>\n",
              "      <td>409.000000</td>\n",
              "      <td>3.544600</td>\n",
              "      <td>180400.000000</td>\n",
              "    </tr>\n",
              "    <tr>\n",
              "      <th>75%</th>\n",
              "      <td>-118.000000</td>\n",
              "      <td>37.720000</td>\n",
              "      <td>37.000000</td>\n",
              "      <td>3151.250000</td>\n",
              "      <td>648.250000</td>\n",
              "      <td>1721.000000</td>\n",
              "      <td>605.250000</td>\n",
              "      <td>4.767000</td>\n",
              "      <td>265000.000000</td>\n",
              "    </tr>\n",
              "    <tr>\n",
              "      <th>max</th>\n",
              "      <td>-114.310000</td>\n",
              "      <td>41.950000</td>\n",
              "      <td>52.000000</td>\n",
              "      <td>37937.000000</td>\n",
              "      <td>6445.000000</td>\n",
              "      <td>35682.000000</td>\n",
              "      <td>6082.000000</td>\n",
              "      <td>15.000100</td>\n",
              "      <td>500001.000000</td>\n",
              "    </tr>\n",
              "  </tbody>\n",
              "</table>\n",
              "</div>"
            ],
            "text/plain": [
              "          longitude      latitude  ...  median_income  median_house_value\n",
              "count  17000.000000  17000.000000  ...   17000.000000        17000.000000\n",
              "mean    -119.562108     35.625225  ...       3.883578       207300.912353\n",
              "std        2.005166      2.137340  ...       1.908157       115983.764387\n",
              "min     -124.350000     32.540000  ...       0.499900        14999.000000\n",
              "25%     -121.790000     33.930000  ...       2.566375       119400.000000\n",
              "50%     -118.490000     34.250000  ...       3.544600       180400.000000\n",
              "75%     -118.000000     37.720000  ...       4.767000       265000.000000\n",
              "max     -114.310000     41.950000  ...      15.000100       500001.000000\n",
              "\n",
              "[8 rows x 9 columns]"
            ]
          },
          "metadata": {
            "tags": []
          },
          "execution_count": 6
        }
      ]
    },
    {
      "cell_type": "code",
      "metadata": {
        "id": "f_EWu8zpIXsz",
        "outputId": "bb48f386-3af2-4098-e153-351f0c4f29f7",
        "colab": {
          "base_uri": "https://localhost:8080/",
          "height": 289
        }
      },
      "source": [
        "df_train.info()"
      ],
      "execution_count": 7,
      "outputs": [
        {
          "output_type": "stream",
          "text": [
            "<class 'pandas.core.frame.DataFrame'>\n",
            "RangeIndex: 17000 entries, 0 to 16999\n",
            "Data columns (total 9 columns):\n",
            " #   Column              Non-Null Count  Dtype  \n",
            "---  ------              --------------  -----  \n",
            " 0   longitude           17000 non-null  float64\n",
            " 1   latitude            17000 non-null  float64\n",
            " 2   housing_median_age  17000 non-null  float64\n",
            " 3   total_rooms         17000 non-null  float64\n",
            " 4   total_bedrooms      17000 non-null  float64\n",
            " 5   population          17000 non-null  float64\n",
            " 6   households          17000 non-null  float64\n",
            " 7   median_income       17000 non-null  float64\n",
            " 8   median_house_value  17000 non-null  float64\n",
            "dtypes: float64(9)\n",
            "memory usage: 1.2 MB\n"
          ],
          "name": "stdout"
        }
      ]
    },
    {
      "cell_type": "markdown",
      "metadata": {
        "id": "kPp9CcUPOvDj"
      },
      "source": [
        "VISUALIZATION"
      ]
    },
    {
      "cell_type": "code",
      "metadata": {
        "id": "sT11r8yMOEkZ"
      },
      "source": [
        "df_train_copy=df_train.copy()"
      ],
      "execution_count": 8,
      "outputs": []
    },
    {
      "cell_type": "code",
      "metadata": {
        "id": "WXsR_FYoIoO-",
        "outputId": "649ea7a1-bab2-4e18-a2bf-67792ed1d011",
        "colab": {
          "base_uri": "https://localhost:8080/",
          "height": 882
        }
      },
      "source": [
        "df_train_copy.hist(bins=50,figsize=(20,15))"
      ],
      "execution_count": 9,
      "outputs": [
        {
          "output_type": "execute_result",
          "data": {
            "text/plain": [
              "array([[<matplotlib.axes._subplots.AxesSubplot object at 0x7f92ac87a940>,\n",
              "        <matplotlib.axes._subplots.AxesSubplot object at 0x7f92ac7d3be0>,\n",
              "        <matplotlib.axes._subplots.AxesSubplot object at 0x7f92ac78ae48>],\n",
              "       [<matplotlib.axes._subplots.AxesSubplot object at 0x7f92ac7490f0>,\n",
              "        <matplotlib.axes._subplots.AxesSubplot object at 0x7f92ac77c358>,\n",
              "        <matplotlib.axes._subplots.AxesSubplot object at 0x7f92ac7315c0>],\n",
              "       [<matplotlib.axes._subplots.AxesSubplot object at 0x7f92ac6e3828>,\n",
              "        <matplotlib.axes._subplots.AxesSubplot object at 0x7f92ac697a58>,\n",
              "        <matplotlib.axes._subplots.AxesSubplot object at 0x7f92ac697ac8>]],\n",
              "      dtype=object)"
            ]
          },
          "metadata": {
            "tags": []
          },
          "execution_count": 9
        },
        {
          "output_type": "display_data",
          "data": {
            "image/png": "[encoded data removed]",
            "text/plain": [
              "<Figure size 1440x1080 with 9 Axes>"
            ]
          },
          "metadata": {
            "tags": [],
            "needs_background": "light"
          }
        }
      ]
    },
    {
      "cell_type": "code",
      "metadata": {
        "id": "dsWVFe2tIxBS",
        "outputId": "3859a6a9-433a-4def-ee69-a59001a46dd2",
        "colab": {
          "base_uri": "https://localhost:8080/",
          "height": 296
        }
      },
      "source": [
        "df_train_copy.plot(kind=\"scatter\",x=\"longitude\",y=\"latitude\",alpha=0.1)"
      ],
      "execution_count": 10,
      "outputs": [
        {
          "output_type": "execute_result",
          "data": {
            "text/plain": [
              "<matplotlib.axes._subplots.AxesSubplot at 0x7f92ac2216a0>"
            ]
          },
          "metadata": {
            "tags": []
          },
          "execution_count": 10
        },
        {
          "output_type": "display_data",
          "data": {
            "image/png": "[encoded data removed]",
            "text/plain": [
              "<Figure size 432x288 with 1 Axes>"
            ]
          },
          "metadata": {
            "tags": [],
            "needs_background": "light"
          }
        }
      ]
    },
    {
      "cell_type": "code",
      "metadata": {
        "id": "A4Ye7IgRJMH-",
        "outputId": "03b7c580-a054-4727-dc52-6d39b8518fb4",
        "colab": {
          "base_uri": "https://localhost:8080/",
          "height": 382
        }
      },
      "source": [
        "import seaborn as sns\n",
        "corr=df_train_copy.corr()\n",
        "\n",
        "sns.heatmap(corr)"
      ],
      "execution_count": 11,
      "outputs": [
        {
          "output_type": "execute_result",
          "data": {
            "text/plain": [
              "<matplotlib.axes._subplots.AxesSubplot at 0x7f92ab299c18>"
            ]
          },
          "metadata": {
            "tags": []
          },
          "execution_count": 11
        },
        {
          "output_type": "display_data",
          "data": {
            "image/png": "[encoded data removed]",
            "text/plain": [
              "<Figure size 432x288 with 2 Axes>"
            ]
          },
          "metadata": {
            "tags": [],
            "needs_background": "light"
          }
        }
      ]
    },
    {
      "cell_type": "markdown",
      "metadata": {
        "id": "ZQet1HI0Kmx9"
      },
      "source": [
        "EXPERIMENTING WITH ATTRIBUTE COMBINATIONS\n"
      ]
    },
    {
      "cell_type": "code",
      "metadata": {
        "id": "q8m9R914Jjt9"
      },
      "source": [
        "\n",
        "df_train_copy[\"rooms_per_household\"]=df_train_copy[\"total_rooms\"]/df_train_copy[\"households\"]\n",
        "df_train_copy[\"bedrooms_per_room\"]=df_train_copy[\"total_bedrooms\"]/df_train_copy[\"total_rooms\"]\n",
        "df_train_copy[\"population_per_household\"]=df_train_copy[\"population\"]/df_train_copy[\"households\"]"
      ],
      "execution_count": 12,
      "outputs": []
    },
    {
      "cell_type": "code",
      "metadata": {
        "id": "BvFpsrhgLRNw",
        "outputId": "3034ac24-fc81-4211-8d6e-7ee975028366",
        "colab": {
          "base_uri": "https://localhost:8080/",
          "height": 238
        }
      },
      "source": [
        "corr_matrix=df_train_copy.corr()\n",
        "corr_matrix[\"median_house_value\"].sort_values(ascending=False)"
      ],
      "execution_count": 13,
      "outputs": [
        {
          "output_type": "execute_result",
          "data": {
            "text/plain": [
              "median_house_value          1.000000\n",
              "median_income               0.691871\n",
              "rooms_per_household         0.150081\n",
              "total_rooms                 0.130991\n",
              "housing_median_age          0.106758\n",
              "households                  0.061031\n",
              "total_bedrooms              0.045783\n",
              "population                 -0.027850\n",
              "population_per_household   -0.042764\n",
              "longitude                  -0.044982\n",
              "latitude                   -0.144917\n",
              "bedrooms_per_room          -0.258190\n",
              "Name: median_house_value, dtype: float64"
            ]
          },
          "metadata": {
            "tags": []
          },
          "execution_count": 13
        }
      ]
    },
    {
      "cell_type": "markdown",
      "metadata": {
        "id": "PLBHJeuuMecI"
      },
      "source": [
        "The new bedroom_per_room is much more correlated with the median house value than the total no. of rooms or bedrooms. Apparently houses with a lower bedroom/room ratio tends to be more expensive."
      ]
    },
    {
      "cell_type": "markdown",
      "metadata": {
        "id": "H5w2pgTdM8l9"
      },
      "source": [
        "The number of rooms per household is also more informative than the total number of rooms in a district- obviously the larger the house, the more expensive they are."
      ]
    },
    {
      "cell_type": "markdown",
      "metadata": {
        "id": "MdI3aaaOU4Lt"
      },
      "source": [
        "**Training a model**"
      ]
    },
    {
      "cell_type": "code",
      "metadata": {
        "id": "OlY4gp6OLnFU"
      },
      "source": [
        "X_train=df_train.drop(\"median_house_value\",axis=1)"
      ],
      "execution_count": 14,
      "outputs": []
    },
    {
      "cell_type": "code",
      "metadata": {
        "id": "wYwUkQSVNpIQ"
      },
      "source": [
        "y_train=df_train[\"median_house_value\"]"
      ],
      "execution_count": 15,
      "outputs": []
    },
    {
      "cell_type": "code",
      "metadata": {
        "id": "NNf5F4GWNuvd",
        "outputId": "def60d59-ecce-4757-cd37-d5488e65cb24",
        "colab": {
          "base_uri": "https://localhost:8080/",
          "height": 204
        }
      },
      "source": [
        "X_train.head()"
      ],
      "execution_count": 16,
      "outputs": [
        {
          "output_type": "execute_result",
          "data": {
            "text/html": [
              "<div>\n",
              "<style scoped>\n",
              "    .dataframe tbody tr th:only-of-type {\n",
              "        vertical-align: middle;\n",
              "    }\n",
              "\n",
              "    .dataframe tbody tr th {\n",
              "        vertical-align: top;\n",
              "    }\n",
              "\n",
              "    .dataframe thead th {\n",
              "        text-align: right;\n",
              "    }\n",
              "</style>\n",
              "<table border=\"1\" class=\"dataframe\">\n",
              "  <thead>\n",
              "    <tr style=\"text-align: right;\">\n",
              "      <th></th>\n",
              "      <th>longitude</th>\n",
              "      <th>latitude</th>\n",
              "      <th>housing_median_age</th>\n",
              "      <th>total_rooms</th>\n",
              "      <th>total_bedrooms</th>\n",
              "      <th>population</th>\n",
              "      <th>households</th>\n",
              "      <th>median_income</th>\n",
              "    </tr>\n",
              "  </thead>\n",
              "  <tbody>\n",
              "    <tr>\n",
              "      <th>0</th>\n",
              "      <td>-114.31</td>\n",
              "      <td>34.19</td>\n",
              "      <td>15.0</td>\n",
              "      <td>5612.0</td>\n",
              "      <td>1283.0</td>\n",
              "      <td>1015.0</td>\n",
              "      <td>472.0</td>\n",
              "      <td>1.4936</td>\n",
              "    </tr>\n",
              "    <tr>\n",
              "      <th>1</th>\n",
              "      <td>-114.47</td>\n",
              "      <td>34.40</td>\n",
              "      <td>19.0</td>\n",
              "      <td>7650.0</td>\n",
              "      <td>1901.0</td>\n",
              "      <td>1129.0</td>\n",
              "      <td>463.0</td>\n",
              "      <td>1.8200</td>\n",
              "    </tr>\n",
              "    <tr>\n",
              "      <th>2</th>\n",
              "      <td>-114.56</td>\n",
              "      <td>33.69</td>\n",
              "      <td>17.0</td>\n",
              "      <td>720.0</td>\n",
              "      <td>174.0</td>\n",
              "      <td>333.0</td>\n",
              "      <td>117.0</td>\n",
              "      <td>1.6509</td>\n",
              "    </tr>\n",
              "    <tr>\n",
              "      <th>3</th>\n",
              "      <td>-114.57</td>\n",
              "      <td>33.64</td>\n",
              "      <td>14.0</td>\n",
              "      <td>1501.0</td>\n",
              "      <td>337.0</td>\n",
              "      <td>515.0</td>\n",
              "      <td>226.0</td>\n",
              "      <td>3.1917</td>\n",
              "    </tr>\n",
              "    <tr>\n",
              "      <th>4</th>\n",
              "      <td>-114.57</td>\n",
              "      <td>33.57</td>\n",
              "      <td>20.0</td>\n",
              "      <td>1454.0</td>\n",
              "      <td>326.0</td>\n",
              "      <td>624.0</td>\n",
              "      <td>262.0</td>\n",
              "      <td>1.9250</td>\n",
              "    </tr>\n",
              "  </tbody>\n",
              "</table>\n",
              "</div>"
            ],
            "text/plain": [
              "   longitude  latitude  ...  households  median_income\n",
              "0    -114.31     34.19  ...       472.0         1.4936\n",
              "1    -114.47     34.40  ...       463.0         1.8200\n",
              "2    -114.56     33.69  ...       117.0         1.6509\n",
              "3    -114.57     33.64  ...       226.0         3.1917\n",
              "4    -114.57     33.57  ...       262.0         1.9250\n",
              "\n",
              "[5 rows x 8 columns]"
            ]
          },
          "metadata": {
            "tags": []
          },
          "execution_count": 16
        }
      ]
    },
    {
      "cell_type": "code",
      "metadata": {
        "id": "ZIXMcH_hNymR",
        "outputId": "11c13da5-5c70-4c3e-f163-1af625f6d1f9",
        "colab": {
          "base_uri": "https://localhost:8080/",
          "height": 119
        }
      },
      "source": [
        "y_train.head()"
      ],
      "execution_count": 17,
      "outputs": [
        {
          "output_type": "execute_result",
          "data": {
            "text/plain": [
              "0    66900.0\n",
              "1    80100.0\n",
              "2    85700.0\n",
              "3    73400.0\n",
              "4    65500.0\n",
              "Name: median_house_value, dtype: float64"
            ]
          },
          "metadata": {
            "tags": []
          },
          "execution_count": 17
        }
      ]
    },
    {
      "cell_type": "code",
      "metadata": {
        "id": "WFhqHBO1PDp3"
      },
      "source": [
        "from sklearn.tree import DecisionTreeRegressor\n",
        "from sklearn import tree"
      ],
      "execution_count": 18,
      "outputs": []
    },
    {
      "cell_type": "code",
      "metadata": {
        "id": "J8ZC7Wm3P_Nm",
        "outputId": "769780a1-b8c8-411f-9589-757939fb5c36",
        "colab": {
          "base_uri": "https://localhost:8080/",
          "height": 119
        }
      },
      "source": [
        "clf = DecisionTreeRegressor(random_state=0)\n",
        "clf.fit(X_train,y_train)\n"
      ],
      "execution_count": 19,
      "outputs": [
        {
          "output_type": "execute_result",
          "data": {
            "text/plain": [
              "DecisionTreeRegressor(ccp_alpha=0.0, criterion='mse', max_depth=None,\n",
              "                      max_features=None, max_leaf_nodes=None,\n",
              "                      min_impurity_decrease=0.0, min_impurity_split=None,\n",
              "                      min_samples_leaf=1, min_samples_split=2,\n",
              "                      min_weight_fraction_leaf=0.0, presort='deprecated',\n",
              "                      random_state=0, splitter='best')"
            ]
          },
          "metadata": {
            "tags": []
          },
          "execution_count": 19
        }
      ]
    },
    {
      "cell_type": "markdown",
      "metadata": {
        "id": "aFH-CT17QL7I"
      },
      "source": [
        "Now that the model is trained, let's evaluate it on the training set "
      ]
    },
    {
      "cell_type": "code",
      "metadata": {
        "id": "eeGK-i0TQJIC"
      },
      "source": [
        "y_preds=clf.predict(X_train)"
      ],
      "execution_count": 21,
      "outputs": []
    },
    {
      "cell_type": "code",
      "metadata": {
        "id": "qxvKb84OQuGH",
        "outputId": "d26d42ee-fc3a-4817-8018-263581fbc1cc",
        "colab": {
          "base_uri": "https://localhost:8080/",
          "height": 34
        }
      },
      "source": [
        "from sklearn.metrics import mean_squared_error\n",
        "clf_mse=mean_squared_error(y_train,y_preds)\n",
        "clf_rmse=np.sqrt(clf_mse)\n",
        "clf_rmse"
      ],
      "execution_count": 22,
      "outputs": [
        {
          "output_type": "execute_result",
          "data": {
            "text/plain": [
              "0.0"
            ]
          },
          "metadata": {
            "tags": []
          },
          "execution_count": 22
        }
      ]
    },
    {
      "cell_type": "markdown",
      "metadata": {
        "id": "w3oZ5V6cRNPm"
      },
      "source": [
        "Wait, what!? No error at all? The model has badly overfit the data.\n",
        "\n",
        "Evalution using cross-validation"
      ]
    },
    {
      "cell_type": "code",
      "metadata": {
        "id": "G4JkyPZYSOXq"
      },
      "source": [
        "from sklearn.model_selection import cross_val_score\n",
        "scores=cross_val_score(clf,X_train,y_train,scoring=\"neg_mean_squared_error\",cv=5)\n",
        "clf_score=np.sqrt(-scores)"
      ],
      "execution_count": 23,
      "outputs": []
    },
    {
      "cell_type": "code",
      "metadata": {
        "id": "Ezi6DVO0ScwQ",
        "outputId": "75ff2842-cc92-4cd5-f08a-ae3816fec2eb",
        "colab": {
          "base_uri": "https://localhost:8080/",
          "height": 85
        }
      },
      "source": [
        "print(\"score :\",clf_score)\n",
        "print(\"mean :\",clf_score.mean())\n",
        "print(\"standard deviation :\",clf_score.std())"
      ],
      "execution_count": 26,
      "outputs": [
        {
          "output_type": "stream",
          "text": [
            "score : [135213.86475818  88458.38861683 106920.94920968  95949.51021066\n",
            "  97327.68825106]\n",
            "mean : 104774.08020928294\n",
            "standard deviation : 16313.878207734728\n"
          ],
          "name": "stdout"
        }
      ]
    },
    {
      "cell_type": "markdown",
      "metadata": {
        "id": "t8cH02xsWqhq"
      },
      "source": [
        "OVER MODEL IS HIGHLY OVERFITTED \n",
        "\n",
        "FINE-TUNE MODEL BY  hyperparameter optimization"
      ]
    },
    {
      "cell_type": "code",
      "metadata": {
        "id": "t4l52TJBZec0",
        "outputId": "73a17519-f5ae-405e-ffcc-919562825a35",
        "colab": {
          "base_uri": "https://localhost:8080/",
          "height": 306
        }
      },
      "source": [
        "from sklearn.model_selection import GridSearchCV\n",
        "\n",
        "param_grid=[{\n",
        "              'criterion' : [\"mse\", \"friedman_mse\", \"mae\"],\n",
        "                                      'max_depth' : [2,4,6,8,10,12]}]\n",
        "clf=DecisionTreeRegressor()\n",
        "grid_search=GridSearchCV(clf,param_grid,cv=5,scoring=\"neg_mean_squared_error\",return_train_score=True)\n",
        "grid_search.fit(X_train,y_train)"
      ],
      "execution_count": 37,
      "outputs": [
        {
          "output_type": "execute_result",
          "data": {
            "text/plain": [
              "GridSearchCV(cv=5, error_score=nan,\n",
              "             estimator=DecisionTreeRegressor(ccp_alpha=0.0, criterion='mse',\n",
              "                                             max_depth=None, max_features=None,\n",
              "                                             max_leaf_nodes=None,\n",
              "                                             min_impurity_decrease=0.0,\n",
              "                                             min_impurity_split=None,\n",
              "                                             min_samples_leaf=1,\n",
              "                                             min_samples_split=2,\n",
              "                                             min_weight_fraction_leaf=0.0,\n",
              "                                             presort='deprecated',\n",
              "                                             random_state=None,\n",
              "                                             splitter='best'),\n",
              "             iid='deprecated', n_jobs=None,\n",
              "             param_grid=[{'criterion': ['mse', 'friedman_mse', 'mae'],\n",
              "                          'max_depth': [2, 4, 6, 8, 10, 12]}],\n",
              "             pre_dispatch='2*n_jobs', refit=True, return_train_score=True,\n",
              "             scoring='neg_mean_squared_error', verbose=0)"
            ]
          },
          "metadata": {
            "tags": []
          },
          "execution_count": 37
        }
      ]
    },
    {
      "cell_type": "code",
      "metadata": {
        "id": "4RhBTBKBdJ-P",
        "outputId": "4aeaa54e-dd27-4cd9-eb3e-fe93f604b7ec",
        "colab": {
          "base_uri": "https://localhost:8080/",
          "height": 34
        }
      },
      "source": [
        "grid_search.best_params_"
      ],
      "execution_count": 38,
      "outputs": [
        {
          "output_type": "execute_result",
          "data": {
            "text/plain": [
              "{'criterion': 'mae', 'max_depth': 6}"
            ]
          },
          "metadata": {
            "tags": []
          },
          "execution_count": 38
        }
      ]
    },
    {
      "cell_type": "code",
      "metadata": {
        "id": "CRdpk4MqdfNr"
      },
      "source": [
        "final_model=grid_search.best_estimator_\n",
        "\n"
      ],
      "execution_count": 41,
      "outputs": []
    },
    {
      "cell_type": "code",
      "metadata": {
        "id": "IDgCQ5U_floN",
        "outputId": "8ef92a40-3ba4-47d4-ac7c-7f5ea3b6c99b",
        "colab": {
          "base_uri": "https://localhost:8080/",
          "height": 1000
        }
      },
      "source": [
        "\n",
        "print(tree.export_text(final_model))\n"
      ],
      "execution_count": 48,
      "outputs": [
        {
          "output_type": "stream",
          "text": [
            "|--- feature_7 <= 5.04\n",
            "|   |--- feature_7 <= 2.83\n",
            "|   |   |--- feature_1 <= 34.45\n",
            "|   |   |   |--- feature_0 <= -117.79\n",
            "|   |   |   |   |--- feature_1 <= 34.06\n",
            "|   |   |   |   |   |--- feature_0 <= -118.38\n",
            "|   |   |   |   |   |   |--- value: [332500.00]\n",
            "|   |   |   |   |   |--- feature_0 >  -118.38\n",
            "|   |   |   |   |   |   |--- value: [140700.00]\n",
            "|   |   |   |   |--- feature_1 >  34.06\n",
            "|   |   |   |   |   |--- feature_0 <= -118.27\n",
            "|   |   |   |   |   |   |--- value: [225000.00]\n",
            "|   |   |   |   |   |--- feature_0 >  -118.27\n",
            "|   |   |   |   |   |   |--- value: [169500.00]\n",
            "|   |   |   |--- feature_0 >  -117.79\n",
            "|   |   |   |   |--- feature_0 <= -116.51\n",
            "|   |   |   |   |   |--- feature_1 <= 33.58\n",
            "|   |   |   |   |   |   |--- value: [129700.00]\n",
            "|   |   |   |   |   |--- feature_1 >  33.58\n",
            "|   |   |   |   |   |   |--- value: [95200.00]\n",
            "|   |   |   |   |--- feature_0 >  -116.51\n",
            "|   |   |   |   |   |--- feature_7 <= 2.32\n",
            "|   |   |   |   |   |   |--- value: [63600.00]\n",
            "|   |   |   |   |   |--- feature_7 >  2.32\n",
            "|   |   |   |   |   |   |--- value: [84150.00]\n",
            "|   |   |--- feature_1 >  34.45\n",
            "|   |   |   |--- feature_0 <= -120.27\n",
            "|   |   |   |   |--- feature_1 <= 37.91\n",
            "|   |   |   |   |   |--- feature_0 <= -122.31\n",
            "|   |   |   |   |   |   |--- value: [250000.00]\n",
            "|   |   |   |   |   |--- feature_0 >  -122.31\n",
            "|   |   |   |   |   |   |--- value: [122700.00]\n",
            "|   |   |   |   |--- feature_1 >  37.91\n",
            "|   |   |   |   |   |--- feature_7 <= 2.18\n",
            "|   |   |   |   |   |   |--- value: [76800.00]\n",
            "|   |   |   |   |   |--- feature_7 >  2.18\n",
            "|   |   |   |   |   |   |--- value: [101300.00]\n",
            "|   |   |   |--- feature_0 >  -120.27\n",
            "|   |   |   |   |--- feature_1 <= 37.25\n",
            "|   |   |   |   |   |--- feature_7 <= 2.07\n",
            "|   |   |   |   |   |   |--- value: [55300.00]\n",
            "|   |   |   |   |   |--- feature_7 >  2.07\n",
            "|   |   |   |   |   |   |--- value: [71400.00]\n",
            "|   |   |   |   |--- feature_1 >  37.25\n",
            "|   |   |   |   |   |--- feature_5 <= 33.00\n",
            "|   |   |   |   |   |   |--- value: [500001.00]\n",
            "|   |   |   |   |   |--- feature_5 >  33.00\n",
            "|   |   |   |   |   |   |--- value: [109400.00]\n",
            "|   |--- feature_7 >  2.83\n",
            "|   |   |--- feature_1 <= 37.94\n",
            "|   |   |   |--- feature_0 <= -121.88\n",
            "|   |   |   |   |--- feature_0 <= -122.42\n",
            "|   |   |   |   |   |--- feature_1 <= 37.76\n",
            "|   |   |   |   |   |   |--- value: [288350.00]\n",
            "|   |   |   |   |   |--- feature_1 >  37.76\n",
            "|   |   |   |   |   |   |--- value: [441850.00]\n",
            "|   |   |   |   |--- feature_0 >  -122.42\n",
            "|   |   |   |   |   |--- feature_1 <= 37.60\n",
            "|   |   |   |   |   |   |--- value: [262500.00]\n",
            "|   |   |   |   |   |--- feature_1 >  37.60\n",
            "|   |   |   |   |   |   |--- value: [207400.00]\n",
            "|   |   |   |--- feature_0 >  -121.88\n",
            "|   |   |   |   |--- feature_1 <= 34.47\n",
            "|   |   |   |   |   |--- feature_0 <= -118.26\n",
            "|   |   |   |   |   |   |--- value: [238700.00]\n",
            "|   |   |   |   |   |--- feature_0 >  -118.26\n",
            "|   |   |   |   |   |   |--- value: [175300.00]\n",
            "|   |   |   |   |--- feature_1 >  34.47\n",
            "|   |   |   |   |   |--- feature_0 <= -120.16\n",
            "|   |   |   |   |   |   |--- value: [166600.00]\n",
            "|   |   |   |   |   |--- feature_0 >  -120.16\n",
            "|   |   |   |   |   |   |--- value: [94400.00]\n",
            "|   |   |--- feature_1 >  37.94\n",
            "|   |   |   |--- feature_7 <= 3.61\n",
            "|   |   |   |   |--- feature_1 <= 39.38\n",
            "|   |   |   |   |   |--- feature_0 <= -122.38\n",
            "|   |   |   |   |   |   |--- value: [177250.00]\n",
            "|   |   |   |   |   |--- feature_0 >  -122.38\n",
            "|   |   |   |   |   |   |--- value: [118500.00]\n",
            "|   |   |   |   |--- feature_1 >  39.38\n",
            "|   |   |   |   |   |--- feature_6 <= 592.00\n",
            "|   |   |   |   |   |   |--- value: [92950.00]\n",
            "|   |   |   |   |   |--- feature_6 >  592.00\n",
            "|   |   |   |   |   |   |--- value: [107300.00]\n",
            "|   |   |   |--- feature_7 >  3.61\n",
            "|   |   |   |   |--- feature_0 <= -122.40\n",
            "|   |   |   |   |   |--- feature_1 <= 38.75\n",
            "|   |   |   |   |   |   |--- value: [240500.00]\n",
            "|   |   |   |   |   |--- feature_1 >  38.75\n",
            "|   |   |   |   |   |   |--- value: [120000.00]\n",
            "|   |   |   |   |--- feature_0 >  -122.40\n",
            "|   |   |   |   |   |--- feature_7 <= 4.47\n",
            "|   |   |   |   |   |   |--- value: [140800.00]\n",
            "|   |   |   |   |   |--- feature_7 >  4.47\n",
            "|   |   |   |   |   |   |--- value: [169550.00]\n",
            "|--- feature_7 >  5.04\n",
            "|   |--- feature_7 <= 7.81\n",
            "|   |   |--- feature_7 <= 6.30\n",
            "|   |   |   |--- feature_2 <= 36.50\n",
            "|   |   |   |   |--- feature_7 <= 5.59\n",
            "|   |   |   |   |   |--- feature_0 <= -121.90\n",
            "|   |   |   |   |   |   |--- value: [268700.00]\n",
            "|   |   |   |   |   |--- feature_0 >  -121.90\n",
            "|   |   |   |   |   |   |--- value: [225100.00]\n",
            "|   |   |   |   |--- feature_7 >  5.59\n",
            "|   |   |   |   |   |--- feature_2 <= 27.50\n",
            "|   |   |   |   |   |   |--- value: [261250.00]\n",
            "|   |   |   |   |   |--- feature_2 >  27.50\n",
            "|   |   |   |   |   |   |--- value: [314000.00]\n",
            "|   |   |   |--- feature_2 >  36.50\n",
            "|   |   |   |   |--- feature_7 <= 5.69\n",
            "|   |   |   |   |   |--- feature_0 <= -118.37\n",
            "|   |   |   |   |   |   |--- value: [346800.00]\n",
            "|   |   |   |   |   |--- feature_0 >  -118.37\n",
            "|   |   |   |   |   |   |--- value: [270550.00]\n",
            "|   |   |   |   |--- feature_7 >  5.69\n",
            "|   |   |   |   |   |--- feature_3 <= 254.00\n",
            "|   |   |   |   |   |   |--- value: [105400.00]\n",
            "|   |   |   |   |   |--- feature_3 >  254.00\n",
            "|   |   |   |   |   |   |--- value: [387800.00]\n",
            "|   |   |--- feature_7 >  6.30\n",
            "|   |   |   |--- feature_2 <= 26.50\n",
            "|   |   |   |   |--- feature_7 <= 7.25\n",
            "|   |   |   |   |   |--- feature_0 <= -121.92\n",
            "|   |   |   |   |   |   |--- value: [338200.00]\n",
            "|   |   |   |   |   |--- feature_0 >  -121.92\n",
            "|   |   |   |   |   |   |--- value: [294500.00]\n",
            "|   |   |   |   |--- feature_7 >  7.25\n",
            "|   |   |   |   |   |--- feature_0 <= -122.02\n",
            "|   |   |   |   |   |   |--- value: [423200.00]\n",
            "|   |   |   |   |   |--- feature_0 >  -122.02\n",
            "|   |   |   |   |   |   |--- value: [340350.00]\n",
            "|   |   |   |--- feature_2 >  26.50\n",
            "|   |   |   |   |--- feature_1 <= 37.81\n",
            "|   |   |   |   |   |--- feature_2 <= 33.50\n",
            "|   |   |   |   |   |   |--- value: [392700.00]\n",
            "|   |   |   |   |   |--- feature_2 >  33.50\n",
            "|   |   |   |   |   |   |--- value: [480500.00]\n",
            "|   |   |   |   |--- feature_1 >  37.81\n",
            "|   |   |   |   |   |--- feature_1 <= 38.02\n",
            "|   |   |   |   |   |   |--- value: [368750.00]\n",
            "|   |   |   |   |   |--- feature_1 >  38.02\n",
            "|   |   |   |   |   |   |--- value: [277700.00]\n",
            "|   |--- feature_7 >  7.81\n",
            "|   |   |--- feature_2 <= 18.50\n",
            "|   |   |   |--- feature_7 <= 8.79\n",
            "|   |   |   |   |--- feature_0 <= -117.85\n",
            "|   |   |   |   |   |--- feature_2 <= 4.50\n",
            "|   |   |   |   |   |   |--- value: [500001.00]\n",
            "|   |   |   |   |   |--- feature_2 >  4.50\n",
            "|   |   |   |   |   |   |--- value: [394200.00]\n",
            "|   |   |   |   |--- feature_0 >  -117.85\n",
            "|   |   |   |   |   |--- feature_1 <= 33.56\n",
            "|   |   |   |   |   |   |--- value: [397700.00]\n",
            "|   |   |   |   |   |--- feature_1 >  33.56\n",
            "|   |   |   |   |   |   |--- value: [350900.00]\n",
            "|   |   |   |--- feature_7 >  8.79\n",
            "|   |   |   |   |--- feature_4 <= 24.50\n",
            "|   |   |   |   |   |--- feature_7 <= 11.74\n",
            "|   |   |   |   |   |   |--- value: [312500.00]\n",
            "|   |   |   |   |   |--- feature_7 >  11.74\n",
            "|   |   |   |   |   |   |--- value: [281000.00]\n",
            "|   |   |   |   |--- feature_4 >  24.50\n",
            "|   |   |   |   |   |--- feature_1 <= 37.99\n",
            "|   |   |   |   |   |   |--- value: [500001.00]\n",
            "|   |   |   |   |   |--- feature_1 >  37.99\n",
            "|   |   |   |   |   |   |--- value: [242000.00]\n",
            "|   |   |--- feature_2 >  18.50\n",
            "|   |   |   |--- feature_1 <= 38.26\n",
            "|   |   |   |   |--- feature_5 <= 56.50\n",
            "|   |   |   |   |   |--- feature_5 <= 23.00\n",
            "|   |   |   |   |   |   |--- value: [500001.00]\n",
            "|   |   |   |   |   |--- feature_5 >  23.00\n",
            "|   |   |   |   |   |   |--- value: [131300.00]\n",
            "|   |   |   |   |--- feature_5 >  56.50\n",
            "|   |   |   |   |   |--- feature_0 <= -117.12\n",
            "|   |   |   |   |   |   |--- value: [500001.00]\n",
            "|   |   |   |   |   |--- feature_0 >  -117.12\n",
            "|   |   |   |   |   |   |--- value: [360950.00]\n",
            "|   |   |   |--- feature_1 >  38.26\n",
            "|   |   |   |   |--- feature_7 <= 8.37\n",
            "|   |   |   |   |   |--- feature_1 <= 38.57\n",
            "|   |   |   |   |   |   |--- value: [405800.00]\n",
            "|   |   |   |   |   |--- feature_1 >  38.57\n",
            "|   |   |   |   |   |   |--- value: [381650.00]\n",
            "|   |   |   |   |--- feature_7 >  8.37\n",
            "|   |   |   |   |   |--- feature_1 <= 38.69\n",
            "|   |   |   |   |   |   |--- value: [341350.00]\n",
            "|   |   |   |   |   |--- feature_1 >  38.69\n",
            "|   |   |   |   |   |   |--- value: [276600.00]\n",
            "\n"
          ],
          "name": "stdout"
        }
      ]
    },
    {
      "cell_type": "markdown",
      "metadata": {
        "id": "ccW1sQiWeY_T"
      },
      "source": [
        "Evaluate on test set"
      ]
    },
    {
      "cell_type": "code",
      "metadata": {
        "id": "LAQ0XizZeWnv",
        "outputId": "1e9bf62c-954c-4909-ea73-9761276c76ab",
        "colab": {
          "base_uri": "https://localhost:8080/",
          "height": 224
        }
      },
      "source": [
        "df_test=pd.read_csv(\"/content/sample_data/california_housing_test.csv\")\n",
        "df_test.head(5)\n"
      ],
      "execution_count": 42,
      "outputs": [
        {
          "output_type": "execute_result",
          "data": {
            "text/html": [
              "<div>\n",
              "<style scoped>\n",
              "    .dataframe tbody tr th:only-of-type {\n",
              "        vertical-align: middle;\n",
              "    }\n",
              "\n",
              "    .dataframe tbody tr th {\n",
              "        vertical-align: top;\n",
              "    }\n",
              "\n",
              "    .dataframe thead th {\n",
              "        text-align: right;\n",
              "    }\n",
              "</style>\n",
              "<table border=\"1\" class=\"dataframe\">\n",
              "  <thead>\n",
              "    <tr style=\"text-align: right;\">\n",
              "      <th></th>\n",
              "      <th>longitude</th>\n",
              "      <th>latitude</th>\n",
              "      <th>housing_median_age</th>\n",
              "      <th>total_rooms</th>\n",
              "      <th>total_bedrooms</th>\n",
              "      <th>population</th>\n",
              "      <th>households</th>\n",
              "      <th>median_income</th>\n",
              "      <th>median_house_value</th>\n",
              "    </tr>\n",
              "  </thead>\n",
              "  <tbody>\n",
              "    <tr>\n",
              "      <th>0</th>\n",
              "      <td>-122.05</td>\n",
              "      <td>37.37</td>\n",
              "      <td>27.0</td>\n",
              "      <td>3885.0</td>\n",
              "      <td>661.0</td>\n",
              "      <td>1537.0</td>\n",
              "      <td>606.0</td>\n",
              "      <td>6.6085</td>\n",
              "      <td>344700.0</td>\n",
              "    </tr>\n",
              "    <tr>\n",
              "      <th>1</th>\n",
              "      <td>-118.30</td>\n",
              "      <td>34.26</td>\n",
              "      <td>43.0</td>\n",
              "      <td>1510.0</td>\n",
              "      <td>310.0</td>\n",
              "      <td>809.0</td>\n",
              "      <td>277.0</td>\n",
              "      <td>3.5990</td>\n",
              "      <td>176500.0</td>\n",
              "    </tr>\n",
              "    <tr>\n",
              "      <th>2</th>\n",
              "      <td>-117.81</td>\n",
              "      <td>33.78</td>\n",
              "      <td>27.0</td>\n",
              "      <td>3589.0</td>\n",
              "      <td>507.0</td>\n",
              "      <td>1484.0</td>\n",
              "      <td>495.0</td>\n",
              "      <td>5.7934</td>\n",
              "      <td>270500.0</td>\n",
              "    </tr>\n",
              "    <tr>\n",
              "      <th>3</th>\n",
              "      <td>-118.36</td>\n",
              "      <td>33.82</td>\n",
              "      <td>28.0</td>\n",
              "      <td>67.0</td>\n",
              "      <td>15.0</td>\n",
              "      <td>49.0</td>\n",
              "      <td>11.0</td>\n",
              "      <td>6.1359</td>\n",
              "      <td>330000.0</td>\n",
              "    </tr>\n",
              "    <tr>\n",
              "      <th>4</th>\n",
              "      <td>-119.67</td>\n",
              "      <td>36.33</td>\n",
              "      <td>19.0</td>\n",
              "      <td>1241.0</td>\n",
              "      <td>244.0</td>\n",
              "      <td>850.0</td>\n",
              "      <td>237.0</td>\n",
              "      <td>2.9375</td>\n",
              "      <td>81700.0</td>\n",
              "    </tr>\n",
              "  </tbody>\n",
              "</table>\n",
              "</div>"
            ],
            "text/plain": [
              "   longitude  latitude  ...  median_income  median_house_value\n",
              "0    -122.05     37.37  ...         6.6085            344700.0\n",
              "1    -118.30     34.26  ...         3.5990            176500.0\n",
              "2    -117.81     33.78  ...         5.7934            270500.0\n",
              "3    -118.36     33.82  ...         6.1359            330000.0\n",
              "4    -119.67     36.33  ...         2.9375             81700.0\n",
              "\n",
              "[5 rows x 9 columns]"
            ]
          },
          "metadata": {
            "tags": []
          },
          "execution_count": 42
        }
      ]
    },
    {
      "cell_type": "code",
      "metadata": {
        "id": "j4vAm1_fexGd"
      },
      "source": [
        "X_test=df_test.drop(\"median_house_value\",axis=1)\n",
        "y_test=df_test[\"median_house_value\"]"
      ],
      "execution_count": 43,
      "outputs": []
    },
    {
      "cell_type": "code",
      "metadata": {
        "id": "92_MS9GueVuP"
      },
      "source": [
        "y_preds=final_model.predict(X_test)\n",
        "\n",
        "final_mse=mean_squared_error(y_test,y_preds)\n",
        "final_rmse=np.sqrt(final_mse)"
      ],
      "execution_count": 44,
      "outputs": []
    },
    {
      "cell_type": "code",
      "metadata": {
        "id": "fFh0nMlNeJRj",
        "outputId": "c508c324-c327-4d3c-b387-ee10979bba1a",
        "colab": {
          "base_uri": "https://localhost:8080/",
          "height": 34
        }
      },
      "source": [
        "final_rmse"
      ],
      "execution_count": 45,
      "outputs": [
        {
          "output_type": "execute_result",
          "data": {
            "text/plain": [
              "72149.23806987616"
            ]
          },
          "metadata": {
            "tags": []
          },
          "execution_count": 45
        }
      ]
    },
    {
      "cell_type": "code",
      "metadata": {
        "id": "-HIq82JneLDi"
      },
      "source": [
        ""
      ],
      "execution_count": null,
      "outputs": []
    }
  ]
}